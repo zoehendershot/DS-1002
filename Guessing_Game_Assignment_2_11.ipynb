{
  "nbformat": 4,
  "nbformat_minor": 0,
  "metadata": {
    "colab": {
      "provenance": [],
      "authorship_tag": "ABX9TyNqcxv1E+8iSb+9LHyM54m5",
      "include_colab_link": true
    },
    "kernelspec": {
      "name": "python3",
      "display_name": "Python 3"
    },
    "language_info": {
      "name": "python"
    }
  },
  "cells": [
    {
      "cell_type": "markdown",
      "metadata": {
        "id": "view-in-github",
        "colab_type": "text"
      },
      "source": [
        "<a href=\"https://colab.research.google.com/github/zoehendershot/DS-1002/blob/main/Guessing_Game_Assignment_2_11.ipynb\" target=\"_parent\"><img src=\"https://colab.research.google.com/assets/colab-badge.svg\" alt=\"Open In Colab\"/></a>"
      ]
    },
    {
      "cell_type": "code",
      "source": [
        "import numpy as np\n",
        "import random\n",
        "def number_guessing_game():\n",
        "  print(\"I'm picking a number between 0 and 100.\")\n",
        "  selected_number = random.randint(0, 101)\n",
        "\n",
        "  num_guesses = 0\n",
        "\n",
        "  while True:\n",
        "    user_input= input(\"Guess a number between 0 and 100: \")\n",
        "\n",
        "    try:\n",
        "            user_guess = int(user_input)\n",
        "\n",
        "    except ValueError:\n",
        "            print(\"Please enter an integer.\")\n",
        "            continue\n",
        "    if user_guess < 0 or user_guess > 100:\n",
        "            print(\"Please guess a number within the range of 0 to 100.\")\n",
        "            continue\n",
        "\n",
        "    num_guesses += 1\n",
        "\n",
        "    if user_guess == selected_number:\n",
        "      print(\"You got it! It took you\", num_guesses, \"guesses.\")\n",
        "      break\n",
        "\n",
        "    elif user_guess > selected_number:\n",
        "            print(\"Too high\")\n",
        "    else:\n",
        "            print(\"Too low\")\n",
        "\n",
        "number_guessing_game()"
      ],
      "metadata": {
        "colab": {
          "base_uri": "https://localhost:8080/"
        },
        "id": "V1aOHU0MVTwU",
        "outputId": "3debc115-61d1-4ced-b04e-ecbe834560a5"
      },
      "execution_count": 32,
      "outputs": [
        {
          "output_type": "stream",
          "name": "stdout",
          "text": [
            "I'm picking a number between 0 and 100.\n",
            "Guess a number between 0 and 100: 34\n",
            "Too high\n",
            "Guess a number between 0 and 100: 21\n",
            "Too low\n",
            "Guess a number between 0 and 100: 31\n",
            "Too high\n",
            "Guess a number between 0 and 100: 27\n",
            "Too low\n",
            "Guess a number between 0 and 100: 28\n",
            "Too low\n",
            "Guess a number between 0 and 100: 30\n",
            "Too high\n",
            "Guess a number between 0 and 100: 29\n",
            "You got it! It took you 7 guesses.\n"
          ]
        }
      ]
    }
  ]
}
{
  "cells": [
    {
      "cell_type": "markdown",
      "metadata": {
        "id": "view-in-github",
        "colab_type": "text"
      },
      "source": [
        "<a href=\"https://colab.research.google.com/github/zoehendershot/DS-1002/blob/main/HW_12_CAPM.ipynb\" target=\"_parent\"><img src=\"https://colab.research.google.com/assets/colab-badge.svg\" alt=\"Open In Colab\"/></a>"
      ]
    },
    {
      "cell_type": "markdown",
      "metadata": {
        "id": "Pz4oXuFbf1pe"
      },
      "source": [
        "## Capital Asset Pricing Model (CAPM)\n",
        "\n",
        "### Assignment due Monday 22 April at noon\n",
        "\n",
        "---"
      ]
    },
    {
      "cell_type": "markdown",
      "metadata": {
        "id": "K-eHlG5gf1pf"
      },
      "source": [
        "### Objectives\n",
        "\n",
        "This assignment is primarily meant to refresh your numpy and pandas skills.  \n",
        "Technical objectives are discussed below.  \n",
        "\n",
        "- All the usual rules apply:  you may work together (groups of at most 3), make sure all names are easy to find at the top of the submission, submit the link to your working colab notebook\n",
        "\n",
        "\n",
        "### Background\n",
        "\n",
        "In finance, CAPM is a single-factor regression model used for analyzing (and predicting) excess stock returns. There are better, more accurate models, but it has its uses. For example, the *market beta* is a useful output which has something to do with the risk of particular investments.\n",
        "\n",
        "1.  Read [this brief synopsis](https://en.wikipedia.org/wiki/Capital_asset_pricing_model) of CAPM.\n",
        "\n",
        "\n",
        "Don't worry if you don't understand all the terminology.\n",
        "Look for a moment at the main formula (in the \"Formula\" section).  For us that formula will look like this:\n",
        "\n",
        "\\begin{aligned}\n",
        "E(R_A) = R_f + \\beta_A (E(R_{SP}) - R_f)\n",
        "\\end{aligned}\n",
        "\n",
        "Some notes on the symbols in this formula:\n",
        "- The formula is used to estimate $E(R_A)$.  The $E$ here stands for the expected value, and $R_A$ is the rate of return of the investment $A$.\n",
        "- To use this formula, you therefore need to know the values of the other variables.\n",
        "- The variable $R_f$ is the \"risk-free rate,\" which is the amount of return you can get on an investment that has zero risk, like say a bank account.\n",
        "This quantity changes over time but for our purposes we can treat it as a constant.  It is hard-coded into the code below.  Make sure you see where this variable occurs in the formula above.\n",
        "- In this assignment the variable $R_{SP}$ is a measure of the rate of return of the overall market.  (The $E$ on the right side also means expected value.)\n",
        "- The variable $\\beta_A$ measures something about the relative risk of the investment A, relative to the overall market.  The technical objective of this assignment will be to compute $\\beta_A$ below, and then to examine how sensitive it is to the specific data.\n",
        "- The value you get for $\\beta_A$ will be a number.  If it is greater than 1, it means (*very roughly*) that the investment A is more volatile than the overall market.  If it is less than 1, it means that the investment is less volatile than the overall market.  But **do not take this too seriously!** In particular see all the caveats at the wikipedia page.\n",
        "- The A investment in our example is an individual stock (Apple).\n",
        "\n"
      ]
    },
    {
      "cell_type": "markdown",
      "metadata": {
        "id": "bHqzHCZnf1pg"
      },
      "source": [
        "2.  Load the packages and data.  (Note that the following code chunk also hard-codes the constant $R_f$.)  \n",
        "The data lives in the file `capm_market_data` in the `data` folder on the `GitHub` site."
      ]
    },
    {
      "cell_type": "markdown",
      "source": [],
      "metadata": {
        "id": "BPZM8GejkC9F"
      }
    },
    {
      "cell_type": "code",
      "execution_count": 2,
      "metadata": {
        "id": "iRPr8YvJf1pg",
        "colab": {
          "base_uri": "https://localhost:8080/",
          "height": 74
        },
        "outputId": "1a4d65ba-6ca0-40ab-954b-081558794c72"
      },
      "outputs": [
        {
          "output_type": "display_data",
          "data": {
            "text/plain": [
              "<IPython.core.display.HTML object>"
            ],
            "text/html": [
              "\n",
              "     <input type=\"file\" id=\"files-c4a8ebec-0866-474f-8cf9-bc3da8e3310f\" name=\"files[]\" multiple disabled\n",
              "        style=\"border:none\" />\n",
              "     <output id=\"result-c4a8ebec-0866-474f-8cf9-bc3da8e3310f\">\n",
              "      Upload widget is only available when the cell has been executed in the\n",
              "      current browser session. Please rerun this cell to enable.\n",
              "      </output>\n",
              "      <script>// Copyright 2017 Google LLC\n",
              "//\n",
              "// Licensed under the Apache License, Version 2.0 (the \"License\");\n",
              "// you may not use this file except in compliance with the License.\n",
              "// You may obtain a copy of the License at\n",
              "//\n",
              "//      http://www.apache.org/licenses/LICENSE-2.0\n",
              "//\n",
              "// Unless required by applicable law or agreed to in writing, software\n",
              "// distributed under the License is distributed on an \"AS IS\" BASIS,\n",
              "// WITHOUT WARRANTIES OR CONDITIONS OF ANY KIND, either express or implied.\n",
              "// See the License for the specific language governing permissions and\n",
              "// limitations under the License.\n",
              "\n",
              "/**\n",
              " * @fileoverview Helpers for google.colab Python module.\n",
              " */\n",
              "(function(scope) {\n",
              "function span(text, styleAttributes = {}) {\n",
              "  const element = document.createElement('span');\n",
              "  element.textContent = text;\n",
              "  for (const key of Object.keys(styleAttributes)) {\n",
              "    element.style[key] = styleAttributes[key];\n",
              "  }\n",
              "  return element;\n",
              "}\n",
              "\n",
              "// Max number of bytes which will be uploaded at a time.\n",
              "const MAX_PAYLOAD_SIZE = 100 * 1024;\n",
              "\n",
              "function _uploadFiles(inputId, outputId) {\n",
              "  const steps = uploadFilesStep(inputId, outputId);\n",
              "  const outputElement = document.getElementById(outputId);\n",
              "  // Cache steps on the outputElement to make it available for the next call\n",
              "  // to uploadFilesContinue from Python.\n",
              "  outputElement.steps = steps;\n",
              "\n",
              "  return _uploadFilesContinue(outputId);\n",
              "}\n",
              "\n",
              "// This is roughly an async generator (not supported in the browser yet),\n",
              "// where there are multiple asynchronous steps and the Python side is going\n",
              "// to poll for completion of each step.\n",
              "// This uses a Promise to block the python side on completion of each step,\n",
              "// then passes the result of the previous step as the input to the next step.\n",
              "function _uploadFilesContinue(outputId) {\n",
              "  const outputElement = document.getElementById(outputId);\n",
              "  const steps = outputElement.steps;\n",
              "\n",
              "  const next = steps.next(outputElement.lastPromiseValue);\n",
              "  return Promise.resolve(next.value.promise).then((value) => {\n",
              "    // Cache the last promise value to make it available to the next\n",
              "    // step of the generator.\n",
              "    outputElement.lastPromiseValue = value;\n",
              "    return next.value.response;\n",
              "  });\n",
              "}\n",
              "\n",
              "/**\n",
              " * Generator function which is called between each async step of the upload\n",
              " * process.\n",
              " * @param {string} inputId Element ID of the input file picker element.\n",
              " * @param {string} outputId Element ID of the output display.\n",
              " * @return {!Iterable<!Object>} Iterable of next steps.\n",
              " */\n",
              "function* uploadFilesStep(inputId, outputId) {\n",
              "  const inputElement = document.getElementById(inputId);\n",
              "  inputElement.disabled = false;\n",
              "\n",
              "  const outputElement = document.getElementById(outputId);\n",
              "  outputElement.innerHTML = '';\n",
              "\n",
              "  const pickedPromise = new Promise((resolve) => {\n",
              "    inputElement.addEventListener('change', (e) => {\n",
              "      resolve(e.target.files);\n",
              "    });\n",
              "  });\n",
              "\n",
              "  const cancel = document.createElement('button');\n",
              "  inputElement.parentElement.appendChild(cancel);\n",
              "  cancel.textContent = 'Cancel upload';\n",
              "  const cancelPromise = new Promise((resolve) => {\n",
              "    cancel.onclick = () => {\n",
              "      resolve(null);\n",
              "    };\n",
              "  });\n",
              "\n",
              "  // Wait for the user to pick the files.\n",
              "  const files = yield {\n",
              "    promise: Promise.race([pickedPromise, cancelPromise]),\n",
              "    response: {\n",
              "      action: 'starting',\n",
              "    }\n",
              "  };\n",
              "\n",
              "  cancel.remove();\n",
              "\n",
              "  // Disable the input element since further picks are not allowed.\n",
              "  inputElement.disabled = true;\n",
              "\n",
              "  if (!files) {\n",
              "    return {\n",
              "      response: {\n",
              "        action: 'complete',\n",
              "      }\n",
              "    };\n",
              "  }\n",
              "\n",
              "  for (const file of files) {\n",
              "    const li = document.createElement('li');\n",
              "    li.append(span(file.name, {fontWeight: 'bold'}));\n",
              "    li.append(span(\n",
              "        `(${file.type || 'n/a'}) - ${file.size} bytes, ` +\n",
              "        `last modified: ${\n",
              "            file.lastModifiedDate ? file.lastModifiedDate.toLocaleDateString() :\n",
              "                                    'n/a'} - `));\n",
              "    const percent = span('0% done');\n",
              "    li.appendChild(percent);\n",
              "\n",
              "    outputElement.appendChild(li);\n",
              "\n",
              "    const fileDataPromise = new Promise((resolve) => {\n",
              "      const reader = new FileReader();\n",
              "      reader.onload = (e) => {\n",
              "        resolve(e.target.result);\n",
              "      };\n",
              "      reader.readAsArrayBuffer(file);\n",
              "    });\n",
              "    // Wait for the data to be ready.\n",
              "    let fileData = yield {\n",
              "      promise: fileDataPromise,\n",
              "      response: {\n",
              "        action: 'continue',\n",
              "      }\n",
              "    };\n",
              "\n",
              "    // Use a chunked sending to avoid message size limits. See b/62115660.\n",
              "    let position = 0;\n",
              "    do {\n",
              "      const length = Math.min(fileData.byteLength - position, MAX_PAYLOAD_SIZE);\n",
              "      const chunk = new Uint8Array(fileData, position, length);\n",
              "      position += length;\n",
              "\n",
              "      const base64 = btoa(String.fromCharCode.apply(null, chunk));\n",
              "      yield {\n",
              "        response: {\n",
              "          action: 'append',\n",
              "          file: file.name,\n",
              "          data: base64,\n",
              "        },\n",
              "      };\n",
              "\n",
              "      let percentDone = fileData.byteLength === 0 ?\n",
              "          100 :\n",
              "          Math.round((position / fileData.byteLength) * 100);\n",
              "      percent.textContent = `${percentDone}% done`;\n",
              "\n",
              "    } while (position < fileData.byteLength);\n",
              "  }\n",
              "\n",
              "  // All done.\n",
              "  yield {\n",
              "    response: {\n",
              "      action: 'complete',\n",
              "    }\n",
              "  };\n",
              "}\n",
              "\n",
              "scope.google = scope.google || {};\n",
              "scope.google.colab = scope.google.colab || {};\n",
              "scope.google.colab._files = {\n",
              "  _uploadFiles,\n",
              "  _uploadFilesContinue,\n",
              "};\n",
              "})(self);\n",
              "</script> "
            ]
          },
          "metadata": {}
        },
        {
          "output_type": "stream",
          "name": "stdout",
          "text": [
            "Saving capm_market_data (1).csv to capm_market_data (1) (1).csv\n"
          ]
        }
      ],
      "source": [
        "import numpy as np\n",
        "import pandas as pd\n",
        "\n",
        "from google.colab import files\n",
        "uploaded = files.upload()\n",
        "capm_data = pd.read_csv('capm_market_data (1).csv')\n",
        "\n",
        "# risk-free Treasury rate\n",
        "R_f = 0.0175 / 252"
      ]
    },
    {
      "cell_type": "markdown",
      "metadata": {
        "id": "PLXAZx6xf1ph"
      },
      "source": [
        "3.  Look at some records.  \n",
        "SPY is something that mirrors the S&P 500 (\"the market\").  \n",
        "AAPL is the code for Apple stock.  \n",
        "The values are closing prices, adjusted for splits and dividends."
      ]
    },
    {
      "cell_type": "code",
      "execution_count": 4,
      "metadata": {
        "id": "747y_ickf1ph",
        "colab": {
          "base_uri": "https://localhost:8080/"
        },
        "outputId": "88826596-3f34-4a6c-f3bf-32b91ff5e52a"
      },
      "outputs": [
        {
          "output_type": "stream",
          "name": "stdout",
          "text": [
            "         date  spy_adj_close  aapl_adj_close\n",
            "0  2020-01-02     321.555786      298.829956\n",
            "1  2020-01-03     319.120911      295.924713\n",
            "2  2020-01-06     320.338379      298.282715\n",
            "3  2020-01-07     319.437653      296.879883\n",
            "4  2020-01-08     321.140106      301.655548\n",
            "5  2020-01-09     323.317627      308.062988\n",
            "6  2020-01-10     322.387207      308.759399\n",
            "7  2020-01-13     324.604401      315.355865\n",
            "8  2020-01-14     324.109497      311.097534\n",
            "9  2020-01-15     324.841919      309.764313\n"
          ]
        }
      ],
      "source": [
        "print(capm_data.head(10))"
      ]
    },
    {
      "cell_type": "markdown",
      "metadata": {
        "id": "y8uzBoHpf1ph"
      },
      "source": [
        "4.  Drop the date column"
      ]
    },
    {
      "cell_type": "code",
      "execution_count": 5,
      "metadata": {
        "id": "1rUGRXnQf1ph"
      },
      "outputs": [],
      "source": [
        "capm_data.drop('date', axis=1, inplace=True)"
      ]
    },
    {
      "cell_type": "markdown",
      "metadata": {
        "id": "fyE1w8F2f1ph"
      },
      "source": [
        "5.  Compute daily returns (percentage changes in price) for both SPY and AAPL.\n",
        "(Be sure to drop the first row of NaN.)  \n",
        "Hint: pandas has functions to easily do this.  \n",
        "Print the first 5 rows of returns.\n"
      ]
    },
    {
      "cell_type": "code",
      "execution_count": 11,
      "metadata": {
        "id": "8aCLOA08f1pi",
        "colab": {
          "base_uri": "https://localhost:8080/"
        },
        "outputId": "1c8a02c9-475c-458c-d58f-61e6a0d67b17"
      },
      "outputs": [
        {
          "output_type": "stream",
          "name": "stdout",
          "text": [
            "   spy_adj_close  aapl_adj_close\n",
            "1      -0.007572       -0.009722\n",
            "2       0.003815        0.007968\n",
            "3      -0.002812       -0.004703\n",
            "4       0.005330        0.016086\n",
            "5       0.006781        0.021241\n"
          ]
        }
      ],
      "source": [
        "daily_returns = capm_data.pct_change()\n",
        "daily_returns = daily_returns.dropna()\n",
        "print(daily_returns.head())"
      ]
    },
    {
      "cell_type": "markdown",
      "metadata": {
        "id": "qA51CJQUf1pi"
      },
      "source": [
        "6.  Save the SPY and AAPL returns into separate numpy arrays.  \n",
        "Print the first five values from each of the two arrays.\n"
      ]
    },
    {
      "cell_type": "code",
      "execution_count": 14,
      "metadata": {
        "id": "uTx4aa7of1pi",
        "colab": {
          "base_uri": "https://localhost:8080/"
        },
        "outputId": "58a61957-a27d-4e20-c172-69441c58f3c8"
      },
      "outputs": [
        {
          "output_type": "stream",
          "name": "stdout",
          "text": [
            "SPY returns: [-0.00757217  0.00381507 -0.0028118   0.00532953  0.00678059]\n",
            "AAPL returns: [-0.00972206  0.00796825 -0.00470303  0.01608619  0.02124092]\n"
          ]
        }
      ],
      "source": [
        "spy_returns = daily_returns['spy_adj_close'].values\n",
        "aapl_returns = daily_returns['aapl_adj_close'].values\n",
        "\n",
        "print(\"SPY returns:\", spy_returns[:5])\n",
        "print(\"AAPL returns:\", aapl_returns[:5])"
      ]
    },
    {
      "cell_type": "markdown",
      "metadata": {
        "id": "SO4C0unXf1pi"
      },
      "source": [
        "7.  Make arrays (one for SPY, one for AAPL) containing the *excess* returns by subtracting the constant $R_f$ from the returns.  \n",
        "(Recall that $R_f$ is the \"risk-free rate\" meaning essentially that you could earn this much in interest if you didn't invest in anything.)  \n",
        "Print the LAST five excess returns from both SPY and AAPL numpy arrays."
      ]
    },
    {
      "cell_type": "code",
      "execution_count": 16,
      "metadata": {
        "id": "o8XOunw5f1pi",
        "colab": {
          "base_uri": "https://localhost:8080/"
        },
        "outputId": "76918129-6098-4292-b555-7a634bacf952"
      },
      "outputs": [
        {
          "output_type": "stream",
          "name": "stdout",
          "text": [
            "SPY excess returns: [-0.00576237  0.0101411  -0.00872841  0.01288957  0.00911779]\n",
            "AAPL excess returns: [ 0.00423088  0.00167981 -0.00468264  0.01647898  0.00680788]\n"
          ]
        }
      ],
      "source": [
        "spy_excess_returns = spy_returns - R_f\n",
        "aapl_excess_returns = aapl_returns - R_f\n",
        "\n",
        "print(\"SPY excess returns:\", spy_excess_returns[-5:])\n",
        "print(\"AAPL excess returns:\", aapl_excess_returns[-5:])"
      ]
    },
    {
      "cell_type": "markdown",
      "metadata": {
        "id": "-DUdB1GGf1pi"
      },
      "source": [
        "8. Make a scatterplot with SPY excess returns on the $x$-axis and AAPL excess returns on the $y$-axis.  \n",
        "If you need it, here is the [Matplotlib documentation]( https://matplotlib.org/stable/api/_as_gen/matplotlib.pyplot.scatter.html)."
      ]
    },
    {
      "cell_type": "code",
      "execution_count": 18,
      "metadata": {
        "id": "ucDTjQOmf1pi",
        "colab": {
          "base_uri": "https://localhost:8080/",
          "height": 472
        },
        "outputId": "306705b9-d1f0-4380-f89f-ea153b581eb2"
      },
      "outputs": [
        {
          "output_type": "display_data",
          "data": {
            "text/plain": [
              "<Figure size 640x480 with 1 Axes>"
            ],
            "image/png": "[encoded data removed]"
          },
          "metadata": {}
        }
      ],
      "source": [
        "import matplotlib.pyplot as plt\n",
        "\n",
        "plt.scatter(spy_excess_returns, aapl_excess_returns)\n",
        "plt.xlabel('SPY Excess Returns')\n",
        "plt.ylabel('AAPL Excess Returns')\n",
        "plt.title('Scatter Plot of SPY vs AAPL Excess Returns')\n",
        "plt.show()\n"
      ]
    },
    {
      "cell_type": "markdown",
      "metadata": {
        "id": "LCJPl-d9f1pi"
      },
      "source": [
        "The value of $\\beta_A$ is computed from the arrays you built in problem 7, via a formula that uses some statistical functions called the \"variance\" and the \"covariance.\"\n",
        "\n",
        "Any individual 1-d array of numbers has a variance, which you can compute using `numpy`'s function `var()` (documented [here](https://numpy.org/doc/stable/reference/generated/numpy.var.html)).  This is a number.\n",
        "\n",
        "If you have two 1-d arrays of the same length, they collectively have something called a covariance which `numpy` also can compute using `cov()` (documented [here](https://numpy.org/doc/stable/reference/generated/numpy.cov.html)).\n",
        "\n",
        "The covariance is also a number, but look at what happens when you send two 1-d arrays to `cov()`: it returns a $2\\times 2$ matrix.  (Try it!)  The covariance we are looking for is the number that lives in both the top right and the bottom left of this matrix.  (Those two numbers should be the same.)  The top left and bottom right entries of the covariance matrix also have meaning, but we don't need them.\n",
        "\n"
      ]
    },
    {
      "cell_type": "markdown",
      "source": [
        "9. Use `numpy` functions as described above to compute the estimate of $\\beta_A$, using the following formula:  \n",
        "\\begin{aligned} \\beta_A= \\frac{ \\text{cov}(A,SP) }{ \\text{var}(SP) } \\end{aligned}\n",
        "In our context, A will be the 1-d array you made in problem 7 for AAPL, and SP will be the 1-d array you made for SPY."
      ],
      "metadata": {
        "id": "bb0j7Vi7quGp"
      }
    },
    {
      "cell_type": "code",
      "execution_count": 28,
      "metadata": {
        "id": "blGso0pMf1pj",
        "colab": {
          "base_uri": "https://localhost:8080/"
        },
        "outputId": "fe856469-c003-417b-b31b-4eaf790230e3"
      },
      "outputs": [
        {
          "output_type": "stream",
          "name": "stdout",
          "text": [
            "0.0008074210081480938\n",
            "Beta_A estimate: 1.0956172644197222\n"
          ]
        }
      ],
      "source": [
        "covariance_matrix = np.cov(aapl_excess_returns, spy_excess_returns)[0,1]\n",
        "print(covariance_matrix)\n",
        "\n",
        "spy_variance = np.var(spy_excess_returns)\n",
        "\n",
        "beta_A = covariance_value / spy_variance\n",
        "\n",
        "print(\"Beta_A estimate:\", beta_A)\n"
      ]
    },
    {
      "cell_type": "markdown",
      "metadata": {
        "id": "02POpgABf1pj"
      },
      "source": [
        "You should have found that the beta estimate is greater than one.  \n",
        "This means that the volatility of AAPL stock, given the data, and according to this particular (flawed) model,\n",
        "is higher than the volatility of the S&P 500.\n",
        "\n",
        "Bonus:  Is this something you can see on the plot you made?\n",
        "\n"
      ]
    },
    {
      "cell_type": "markdown",
      "source": [
        "The scatter plot shows a positive relationship between AAPL's excess returns and SPY's excess returns. AAPL's excess returns are generally higher compared to SPY's excess returns, which suggests that AAPL is more volatile than the market."
      ],
      "metadata": {
        "id": "aeLasrWag1S4"
      }
    },
    {
      "cell_type": "markdown",
      "metadata": {
        "id": "5jCGs8igf1pj"
      },
      "source": [
        "Finally, let's look at how sensitive the beta is to each data point.   \n",
        "We want to drop each data point (one at a time), compute \\\\(\\hat\\beta_i\\\\) using our formula from above, and save each measurement.\n",
        "\n",
        "This is called *jackknifing*.\n",
        "\n"
      ]
    },
    {
      "cell_type": "markdown",
      "source": [
        "10. Write a function called `beta_sensitivity()` with these specs:\n",
        "\n",
        "- take numpy arrays `x` and `y` as inputs\n",
        "- outputs a list of tuples, so that each tuple contains (observation row dropped, beta estimate)\n",
        "\n",
        "Hint: **np.delete(x, i).reshape(-1,1)** will delete observation i from array x, and make it a column vector"
      ],
      "metadata": {
        "id": "VhlkawRDeV8Z"
      }
    },
    {
      "cell_type": "code",
      "execution_count": 65,
      "metadata": {
        "id": "LyT1XSF8f1pj"
      },
      "outputs": [],
      "source": [
        "def beta_sensitivity(aapl_excess_returns, spy_excess_returns):\n",
        "    betas = []\n",
        "    for i in range(len(aapl_excess_returns)):\n",
        "        x = np.delete(aapl_excess_returns, i).reshape(-1, 1)\n",
        "        y = np.delete(spy_excess_returns, i).reshape(-1,1)\n",
        "        beta = np.cov(x, y)[0, 1] / np.var(x)\n",
        "        betas.append((i, beta))\n",
        "    return betas\n"
      ]
    },
    {
      "cell_type": "markdown",
      "metadata": {
        "id": "L9u4bfjtf1pj"
      },
      "source": [
        "11. Call `beta_sensitivity()` on the arrays A and SP from earlier and print the first ten tuples of output."
      ]
    },
    {
      "cell_type": "code",
      "execution_count": 67,
      "metadata": {
        "id": "vaz9ozp6f1pj",
        "colab": {
          "base_uri": "https://localhost:8080/"
        },
        "outputId": "77708ffc-0000-4dab-b012-9c3e7d3f1083"
      },
      "outputs": [
        {
          "output_type": "stream",
          "name": "stdout",
          "text": [
            "(0, nan)\n",
            "(1, nan)\n",
            "(2, nan)\n",
            "(3, nan)\n",
            "(4, nan)\n",
            "(5, nan)\n",
            "(6, nan)\n",
            "(7, nan)\n",
            "(8, nan)\n",
            "(9, nan)\n"
          ]
        },
        {
          "output_type": "stream",
          "name": "stderr",
          "text": [
            "<ipython-input-65-8b84c4930ed2>:6: RuntimeWarning: Degrees of freedom <= 0 for slice\n",
            "  beta = np.cov(x, y)[0, 1] / np.var(x)\n",
            "/usr/local/lib/python3.10/dist-packages/numpy/lib/function_base.py:2748: RuntimeWarning: divide by zero encountered in divide\n",
            "  c *= np.true_divide(1, fact)\n",
            "/usr/local/lib/python3.10/dist-packages/numpy/lib/function_base.py:2748: RuntimeWarning: invalid value encountered in multiply\n",
            "  c *= np.true_divide(1, fact)\n"
          ]
        }
      ],
      "source": [
        "beta_results = beta_sensitivity(aapl_excess_returns, spy_excess_returns)\n",
        "\n",
        "for i in range(10):\n",
        "    print(beta_results[i])\n"
      ]
    }
  ],
  "metadata": {
    "kernelspec": {
      "display_name": "Python 3.8.9 64-bit",
      "language": "python",
      "name": "python3"
    },
    "language_info": {
      "codemirror_mode": {
        "name": "ipython",
        "version": 3
      },
      "file_extension": ".py",
      "mimetype": "text/x-python",
      "name": "python",
      "nbconvert_exporter": "python",
      "pygments_lexer": "ipython3",
      "version": "3.8.9"
    },
    "vscode": {
      "interpreter": {
        "hash": "31f2aee4e71d21fbe5cf8b01ff0e069b9275f58929596ceb00d14d90e3e16cd6"
      }
    },
    "colab": {
      "provenance": [],
      "include_colab_link": true
    }
  },
  "nbformat": 4,
  "nbformat_minor": 0
}
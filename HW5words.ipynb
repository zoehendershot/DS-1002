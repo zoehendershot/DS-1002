{
  "nbformat": 4,
  "nbformat_minor": 0,
  "metadata": {
    "colab": {
      "provenance": [],
      "authorship_tag": "ABX9TyMR/DKm0+Yt+BurFJgghSet",
      "include_colab_link": true
    },
    "kernelspec": {
      "name": "python3",
      "display_name": "Python 3"
    },
    "language_info": {
      "name": "python"
    }
  },
  "cells": [
    {
      "cell_type": "markdown",
      "metadata": {
        "id": "view-in-github",
        "colab_type": "text"
      },
      "source": [
        "<a href=\"https://colab.research.google.com/github/zoehendershot/DS-1002/blob/main/HW5words.ipynb\" target=\"_parent\"><img src=\"https://colab.research.google.com/assets/colab-badge.svg\" alt=\"Open In Colab\"/></a>"
      ]
    },
    {
      "cell_type": "markdown",
      "source": [
        "Collaborated with Claire Bassett"
      ],
      "metadata": {
        "id": "W5eMcfz_Nw8R"
      }
    },
    {
      "cell_type": "code",
      "execution_count": 21,
      "metadata": {
        "colab": {
          "base_uri": "https://localhost:8080/"
        },
        "id": "B0Ggu0JBgqle",
        "outputId": "99c59f97-c276-49ef-9d00-3d3010468f93"
      },
      "outputs": [
        {
          "output_type": "stream",
          "name": "stdout",
          "text": [
            "Requirement already satisfied: english_words in /usr/local/lib/python3.10/dist-packages (2.0.1)\n"
          ]
        }
      ],
      "source": [
        "!pip install english_words\n",
        "from english_words import get_english_words_set\n",
        "words = get_english_words_set(['web2'], lower=True)"
      ]
    },
    {
      "cell_type": "code",
      "source": [
        "type(words)\n",
        "print(type(words))\n",
        "wordlist = list(words)\n",
        "print(type(wordlist))\n",
        "wordlist_length = len(wordlist) #find how long the alpha list is\n",
        "print(wordlist_length)\n",
        "first_tenwordlist= wordlist[:10] # Use slicing to get the first ten words\n",
        "print(first_tenwordlist)\n",
        "#the words below are random and do not seem to have any rhyme or reason. They are also very uncommon words."
      ],
      "metadata": {
        "colab": {
          "base_uri": "https://localhost:8080/"
        },
        "id": "K5STI5P3g8YK",
        "outputId": "1dfc58c2-e067-4e2f-98e4-031c089c7a39"
      },
      "execution_count": 27,
      "outputs": [
        {
          "output_type": "stream",
          "name": "stdout",
          "text": [
            "<class 'set'>\n",
            "<class 'list'>\n",
            "234450\n",
            "['submania', 'preinhabitation', 'wagon', 'butteryfingered', 'tripalmitate', 'thoroughfoot', 'affect', 'polysomatic', 'baginda', 'squarson']\n"
          ]
        }
      ]
    },
    {
      "cell_type": "code",
      "source": [
        "alpha_list= sorted(wordlist)\n",
        "first_ten_words = alpha_list[:10]\n",
        "\n",
        "print(first_ten_words)"
      ],
      "metadata": {
        "colab": {
          "base_uri": "https://localhost:8080/"
        },
        "id": "KB78ITE0iXg4",
        "outputId": "6a5b2eef-e16e-42e0-eaf8-6e260bed4465"
      },
      "execution_count": 28,
      "outputs": [
        {
          "output_type": "stream",
          "name": "stdout",
          "text": [
            "['a', 'aa', 'aal', 'aalii', 'aam', 'aani', 'aardvark', 'aardwolf', 'aaron', 'aaronic']\n"
          ]
        }
      ]
    },
    {
      "cell_type": "code",
      "source": [
        "# Count # of words in alpha_list that start with 'a'\n",
        "countof_a_words = sum(1 for word in alpha_list if word.startswith('a'))\n",
        "print(countof_a_words)\n",
        "\n",
        "#Count # of words in alpha_list that include the letter 'q'\n",
        "countof_q_words = sum(1 for word in alpha_list if 'q' in word)\n",
        "print(countof_q_words)\n",
        "\n",
        "#Calculate the fraction of the words in alpha_list that do not have an 'e'\n",
        "fractionof_no_e = sum(1 for word in alpha_list if 'e' not in word)/len(alpha_list)\n",
        "print(fractionof_no_e)\n"
      ],
      "metadata": {
        "colab": {
          "base_uri": "https://localhost:8080/"
        },
        "id": "AgXHe85KjUqa",
        "outputId": "f16fb679-53a9-4807-e4d6-561b4b6e887b"
      },
      "execution_count": 29,
      "outputs": [
        {
          "output_type": "stream",
          "name": "stdout",
          "text": [
            "16982\n",
            "3624\n",
            "0.32828321603753463\n"
          ]
        }
      ]
    },
    {
      "cell_type": "code",
      "source": [
        "import numpy as np\n",
        "alpha_array = np.array(alpha_list)\n",
        "\n",
        "#this line of code makes a list called alphabet that contains all the lowercase letters of the alphabet from 'a' to 'z'.\n",
        "alphabet = [chr(i) for i in range(ord('a'),ord('z')+1)]\n",
        "print(alphabet)"
      ],
      "metadata": {
        "colab": {
          "base_uri": "https://localhost:8080/"
        },
        "id": "oqx7319OkJcs",
        "outputId": "bd959971-d510-4200-95d9-efaad3fd9bee"
      },
      "execution_count": 30,
      "outputs": [
        {
          "output_type": "stream",
          "name": "stdout",
          "text": [
            "['a', 'b', 'c', 'd', 'e', 'f', 'g', 'h', 'i', 'j', 'k', 'l', 'm', 'n', 'o', 'p', 'q', 'r', 's', 't', 'u', 'v', 'w', 'x', 'y', 'z']\n"
          ]
        }
      ]
    },
    {
      "cell_type": "code",
      "source": [
        "import matplotlib.pyplot as plt\n",
        "\n",
        "# Create an empty list to store the frequencies of each letter\n",
        "frequency = list()\n",
        "# Loop through each letter in the alphabet\n",
        "for letter in alphabet:\n",
        "  # Count # of words in wordlist that start with each letter\n",
        "  count = sum(1 for word in wordlist if word[0] == letter)\n",
        "   # Add the count for each letter to the frequency list\n",
        "  frequency.append(count)\n",
        "\n",
        "#assign variables\n",
        "x_values= alphabet\n",
        "y_values= frequency\n",
        "\n",
        "# Create bar graph\n",
        "plt.bar(x_values, y_values)\n",
        "\n",
        "# Add labels and title\n",
        "plt.xlabel('Letters in the alphabet')\n",
        "plt.ylabel('Number of Words')\n",
        "plt.title('Number of Words Starting with Each Letter')\n",
        "\n",
        "# Show plot\n",
        "plt.show()"
      ],
      "metadata": {
        "id": "ZFmFnAiAk8Vo",
        "colab": {
          "base_uri": "https://localhost:8080/",
          "height": 472
        },
        "outputId": "cbf84c48-f919-4d78-a67b-a9435487a934"
      },
      "execution_count": 31,
      "outputs": [
        {
          "output_type": "display_data",
          "data": {
            "text/plain": [
              "<Figure size 640x480 with 1 Axes>"
            ],
            "image/png": "[encoded data removed]"
          },
          "metadata": {}
        }
      ]
    },
    {
      "cell_type": "code",
      "source": [
        "# Sort the word list based on their lengths, longest to shortest\n",
        "sorted_words = sorted(alpha_list, key=len, reverse=True)\n",
        "\n",
        "# Select the six longest words, which after being sorted would be the first 6\n",
        "six_longest_words = sorted_words[:6]\n",
        "\n",
        "print(six_longest_words)"
      ],
      "metadata": {
        "colab": {
          "base_uri": "https://localhost:8080/"
        },
        "id": "8fypdwUlGnc1",
        "outputId": "c7298f5f-1cf0-4591-d61f-f66efe32a149"
      },
      "execution_count": 8,
      "outputs": [
        {
          "output_type": "stream",
          "name": "stdout",
          "text": [
            "['antidisestablishmentarianism', 'pathologicopsychological', 'formaldehydesulphoxylate', 'tetraiodophenolphthalein', 'thyroparathyroidectomize', 'scientificophilosophical']\n"
          ]
        }
      ]
    },
    {
      "cell_type": "code",
      "source": [
        "import matplotlib.pyplot as plt\n",
        "# Calculate the length of each word\n",
        "word_lengths = [len(word) for word in alpha_list]\n",
        "\n",
        "# Count the occurrences of each length and store in a dictionary\n",
        "length_counts = {}\n",
        "for length in word_lengths:\n",
        "    if length in length_counts:\n",
        "        length_counts[length] += 1 #increases by increments by 1 per length\n",
        "    else:\n",
        "        length_counts[length] = 1\n",
        "\n",
        "#generates intervals based on the range of values in the word_lengths list\n",
        "#each bin has a width of 1 and covers the entire range of values with space\n",
        "bins = np.arange(0, max(word_lengths) + 2, 1)\n",
        "\n",
        "# Create the histogram\n",
        "plt.hist(word_lengths, bins)\n",
        "\n",
        "# Add labels and title\n",
        "plt.xlabel('Word Length')\n",
        "plt.ylabel('Frequency')\n",
        "plt.title('Frequency of Word Lengths')\n",
        "\n",
        "# Show the plot\n",
        "plt.show()\n",
        "\n",
        "# Find the most common length of a word by calling the dictionary key\n",
        "most_common_length = max(length_counts, key=length_counts.get)\n",
        "print(\"The most common length of a word in the wordlist is:\", most_common_length)"
      ],
      "metadata": {
        "colab": {
          "base_uri": "https://localhost:8080/",
          "height": 490
        },
        "id": "5CCpduI8MbBl",
        "outputId": "dad25109-8bcd-40d1-8dbd-017e36aa5caa"
      },
      "execution_count": 35,
      "outputs": [
        {
          "output_type": "display_data",
          "data": {
            "text/plain": [
              "<Figure size 640x480 with 1 Axes>"
            ],
            "image/png": "[encoded data removed]"
          },
          "metadata": {}
        },
        {
          "output_type": "stream",
          "name": "stdout",
          "text": [
            "The most common length of a word in the wordlist is: 9\n"
          ]
        }
      ]
    },
    {
      "cell_type": "code",
      "source": [
        "word_list = [wordlist]\n",
        "\n",
        "countof_va_words = sum(1 for word in alpha_list if 'v' in word and 'a' in word)\n",
        "print(\"There are\", countof_va_words, \"words with both 'v' and 'a' in them.\")\n",
        "\n",
        "countof_wl_words= sum(1 for word in alpha_list if 'w' in word and 'l' in word)\n",
        "print(\"There are\", countof_wl_words, \"words with both 'w' and 'l' in them.\")\n",
        "\n",
        "#This line of code uses the sum() function, it loops through each word in alpha_list once to check if both letters are present.\n",
        "#This line of code took 0 secs to run"
      ],
      "metadata": {
        "colab": {
          "base_uri": "https://localhost:8080/"
        },
        "id": "KHEJhF5rLFnc",
        "outputId": "7259ada8-65ad-4c65-a249-3bf8fe77cac1"
      },
      "execution_count": 36,
      "outputs": [
        {
          "output_type": "stream",
          "name": "stdout",
          "text": [
            "There are 11347 words with both 'v' and 'a' in them.\n",
            "There are 4822 words with both 'w' and 'l' in them.\n"
          ]
        }
      ]
    }
  ]
}
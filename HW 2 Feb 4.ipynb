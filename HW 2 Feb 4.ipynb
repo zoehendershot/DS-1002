{
  "nbformat": 4,
  "nbformat_minor": 0,
  "metadata": {
    "colab": {
      "provenance": [],
      "include_colab_link": true
    },
    "kernelspec": {
      "name": "python3",
      "display_name": "Python 3"
    },
    "language_info": {
      "name": "python"
    }
  },
  "cells": [
    {
      "cell_type": "markdown",
      "metadata": {
        "id": "view-in-github",
        "colab_type": "text"
      },
      "source": [
        "<a href=\"https://colab.research.google.com/github/zoehendershot/DS-1002/blob/main/HW%202%20Feb%204.ipynb\" target=\"_parent\"><img src=\"https://colab.research.google.com/assets/colab-badge.svg\" alt=\"Open In Colab\"/></a>"
      ]
    },
    {
      "cell_type": "markdown",
      "source": [
        "## DS 1002 homework due Sunday Feb 4 at 10 pm\n"
      ],
      "metadata": {
        "id": "zAw2bmn-TjFJ"
      }
    },
    {
      "cell_type": "markdown",
      "source": [
        "\n",
        "The notebook from Wednesday's class is in my GitHib repository, including the little script we wrote at the end to find mangos in a list of fruit.  The file is called `MorePythonBasics.ipynb`.\n",
        "\n",
        "(By the way I wondered if the correct spelling was \"mangos\" or \"mangoes\" and I found [this](https://www.mango.org/blog-mangos-or-mangoes/)!  Who knew?  There's a National Mango Board!  And they're prepared to adjudicate this and other difficult mango-related questions.)\n",
        "\n",
        "\n"
      ],
      "metadata": {
        "id": "Cmf4xleCSWCu"
      }
    },
    {
      "cell_type": "markdown",
      "source": [
        "### Problem 1:  finding fruit\n",
        "\n",
        "Adapt the function we wrote in class so that it takes two arguments,\n",
        "\n",
        "`fruit` and `hungryfor` ,\n",
        "\n",
        "and then searches through the list `fruit` for the item `hungryfor`.  The line that calls the function should look like\n",
        "\n",
        "`find_fruit(food, hungryfor)`\n",
        "\n",
        "Make it print out the results in the same way, so for example if `food` is what we entered in class and `hungryfor = \"tomatoes\"` then the output will be\n",
        "\n",
        "```python\n",
        "No tomatoes here.\n",
        "No tomatoes here.\n",
        "No tomatoes here.\n",
        "No tomatoes here.\n",
        "No tomatoes here.\n",
        "```\n",
        "Test your code by changing the values of `food` and `hungryfor` and make sure the output is what you expect.  Show a few outputs, each in its own code chunk.\n",
        "\n"
      ],
      "metadata": {
        "id": "rJLyGryAThhp"
      }
    },
    {
      "cell_type": "code",
      "source": [
        "def find_fruit(food, hungryfor):\n",
        "    for item in fruit:\n",
        "        if item == hungryfor:\n",
        "            print(f\"Hooray! I found {hungryfor}.\")\n",
        "        else:\n",
        "            print(f\"No {hungryfor} here.\")\n",
        "\n",
        "food = [\"apples\", \"oranges\", \"mangos\", \"bananas\", \"blueberries\"]\n",
        "hungryfor = input(\"What type of fruit do you want? \")\n",
        ""
      ],
      "metadata": {
        "id": "YXwLLFCt6H2f",
        "colab": {
          "base_uri": "https://localhost:8080/"
        },
        "outputId": "f5333e1f-e7c2-40f5-ce7e-86fa137d8934"
      },
      "execution_count": 41,
      "outputs": [
        {
          "name": "stdout",
          "output_type": "stream",
          "text": [
            "What type of fruit do you want? oranges\n"
          ]
        }
      ]
    },
    {
      "cell_type": "code",
      "source": [
        "def find_fruit(food, hungryfor):\n",
        "    for item in fruit:\n",
        "        if item == hungryfor:\n",
        "            print(f\"Hooray! I found {hungryfor}.\")\n",
        "        else:\n",
        "            print(f\"No {hungryfor} here.\")\n",
        "\n",
        "food = [\"kiwis\", \"strawberries\", \"dragonfruit\", \"tomatoes\", \"raspberries\"]\n",
        "hungryfor = input(\"What kind of fruit do you want? \")"
      ],
      "metadata": {
        "colab": {
          "base_uri": "https://localhost:8080/"
        },
        "id": "7WsOu-cP0zMk",
        "outputId": "c179fcd4-159c-474e-b61a-e892df833d45"
      },
      "execution_count": 31,
      "outputs": [
        {
          "name": "stdout",
          "output_type": "stream",
          "text": [
            "What kind of fruit do you want? kiwis\n"
          ]
        }
      ]
    },
    {
      "cell_type": "code",
      "source": [
        "def find_veg(food, hungryfor):\n",
        "    for item in veg:\n",
        "        if item == hungryfor:\n",
        "            print(f\"Hooray! I found {hungryfor}.\")\n",
        "        else:\n",
        "            print(f\"No {hungryfor} here.\")\n",
        "\n",
        "food = [\"lettuce\", \"onions\", \"peppers\", \"green beans\", \"olives\"]\n",
        "hungryfor = input(\"What type of vegetable do you want? \")"
      ],
      "metadata": {
        "colab": {
          "base_uri": "https://localhost:8080/"
        },
        "id": "SopKyqQA1eOm",
        "outputId": "84f99877-19ca-46f0-f3a2-b0157b5ac1da"
      },
      "execution_count": 32,
      "outputs": [
        {
          "name": "stdout",
          "output_type": "stream",
          "text": [
            "What type of vegetable do you want? onions\n"
          ]
        }
      ]
    },
    {
      "cell_type": "markdown",
      "source": [
        "#### Notes\n",
        "1. Once you have run a code chunk in the notebook, it will remember that it has been run.  You don't have to call the function in the same code chunk where the function is defined.  In other words, to call the function with new inputs you can simply make a new code chunk, change the inputs, and call the function.  *You don't have to retype the definition of the function each time.*\n",
        "\n",
        "2. Make sure you clean things up when you're done, so you don't include old code that doesn't work or old incorrect outputs.\n"
      ],
      "metadata": {
        "id": "AMp-a1ym6W7w"
      }
    },
    {
      "cell_type": "markdown",
      "source": [
        "### Problem 2:  the `input()` function\n",
        "\n",
        "(a) Programming gets way more fun when you start to interact with your own programs!  Here is a function that lets you start doing that.  Run the following code and see what happens:\n"
      ],
      "metadata": {
        "id": "R-s9cZ6GYWNX"
      }
    },
    {
      "cell_type": "code",
      "source": [
        "seven = \"How are you doing?\"\n",
        "message = input(seven)\n",
        "print(\"Hello there!\")"
      ],
      "metadata": {
        "id": "IEK8O2qNYkXn",
        "colab": {
          "base_uri": "https://localhost:8080/"
        },
        "outputId": "ab6bc1ca-61fd-4b39-d46d-78ef6a228c59"
      },
      "execution_count": 40,
      "outputs": [
        {
          "output_type": "stream",
          "name": "stdout",
          "text": [
            "How are you doing?seven\n",
            "Hello there!\n"
          ]
        }
      ]
    },
    {
      "cell_type": "markdown",
      "source": [
        "(b) As you just saw, the code waits for you to enter something before it continues.  If you want to actually use the input in the code, you should assign its value to a variable:"
      ],
      "metadata": {
        "id": "sktZu8wWzFF6"
      }
    },
    {
      "cell_type": "code",
      "source": [
        "message = input()\n",
        "print(message)"
      ],
      "metadata": {
        "id": "fMmBkzbyz9Ty"
      },
      "execution_count": null,
      "outputs": []
    },
    {
      "cell_type": "markdown",
      "source": [
        "(c) Now you can start interacting.  Write some code that asks the user what they are hungry for (using a print statement), and then takes the user input, and then runs the `find_fruit` function from the previous code block using the user input as the `hungryfor` variable.  Test your code, and then include a few different outputs that demonstrate that the code works."
      ],
      "metadata": {
        "id": "ny41z-dQYmjQ"
      }
    },
    {
      "cell_type": "code",
      "source": [
        "def find_fruit(food, hungryfor):\n",
        "    for item in fruit:\n",
        "        if item == hungryfor:\n",
        "            print(f\"Hooray! I found {hungryfor}.\")\n",
        "        else:\n",
        "            print(f\"No {hungryfor} here.\")\n",
        "user_hungry_for = input(\"What are you hungry for? \")\n",
        "\n",
        "food = [\"apples\", \"oranges\", \"mangos\", \"bananas\", \"blueberries\"]\n",
        "find_fruit(food, user_hungry_for)\n"
      ],
      "metadata": {
        "id": "SKAVoAZ00xOx",
        "colab": {
          "base_uri": "https://localhost:8080/"
        },
        "outputId": "33a50bf3-2b2c-4670-82f0-d62bdafecb42"
      },
      "execution_count": 33,
      "outputs": [
        {
          "output_type": "stream",
          "name": "stdout",
          "text": [
            "What are you hungry for? apples\n",
            "Hooray! I found apples.\n",
            "No apples here.\n",
            "No apples here.\n",
            "No apples here.\n",
            "No apples here.\n"
          ]
        }
      ]
    },
    {
      "cell_type": "code",
      "source": [
        "user_hungry_for = input(\"What are you hungry for? \")\n",
        "\n",
        "food = [\"apples\", \"oranges\", \"mangos\", \"bananas\", \"blueberries\"]\n",
        "find_fruit(food, user_hungry_for)"
      ],
      "metadata": {
        "id": "sQQVP1oa5dR7",
        "colab": {
          "base_uri": "https://localhost:8080/"
        },
        "outputId": "2365cb0f-f7e5-4d0f-dc95-abb87a34d1a2"
      },
      "execution_count": 25,
      "outputs": [
        {
          "output_type": "stream",
          "name": "stdout",
          "text": [
            "What are you hungry for? bananas\n",
            "No bananas here.\n",
            "No bananas here.\n",
            "No bananas here.\n",
            "Hooray! I found bananas.\n",
            "No bananas here.\n"
          ]
        }
      ]
    },
    {
      "cell_type": "code",
      "source": [
        "user_hungry_for = input(\"What are you hungry for? \")\n",
        "\n",
        "food = [\"apples\", \"oranges\", \"mangos\", \"bananas\", \"blueberries\"]\n",
        "find_fruit(food, user_hungry_for)"
      ],
      "metadata": {
        "colab": {
          "base_uri": "https://localhost:8080/"
        },
        "id": "Kb0tEBqEv8bF",
        "outputId": "977b0e8f-a086-461e-b7a1-61fa241b543d"
      },
      "execution_count": 26,
      "outputs": [
        {
          "output_type": "stream",
          "name": "stdout",
          "text": [
            "What are you hungry for? blueberries\n",
            "No blueberries here.\n",
            "No blueberries here.\n",
            "No blueberries here.\n",
            "No blueberries here.\n",
            "Hooray! I found blueberries.\n"
          ]
        }
      ]
    },
    {
      "cell_type": "markdown",
      "source": [
        "### Problem 3:  ratings  \n",
        "Write a piece of code which prompts a user with the question \"What is your rating? (1-10)\" and then asks for user input.  Let's say the input is 3.  Once the input is received, print out a message that says.\n",
        "\n",
        "\"Your rating is *** .\"\n",
        "\n",
        "Obviously, your program should print the number of stars corresponding to the input!  If the input is 5, it should print\n",
        "\n",
        "\"Your rating is ***** .\"\n",
        "\n",
        "Show at least two outputs of your code."
      ],
      "metadata": {
        "id": "5CWOlHBz0xoZ"
      }
    },
    {
      "cell_type": "code",
      "source": [
        "def print_rating_stars(rating):\n",
        "    stars = '*' * int(rating)\n",
        "    print(f\"Your rating is {stars}.\")\n",
        "\n",
        "user_rating1 = input(\"What is your rating? (1-10)\")\n",
        "print_rating_stars(user_rating1)\n",
        "\n"
      ],
      "metadata": {
        "id": "MCWnTAUW2Gin",
        "colab": {
          "base_uri": "https://localhost:8080/"
        },
        "outputId": "80d1372a-e7d4-4c41-defd-6b79b698f875"
      },
      "execution_count": 19,
      "outputs": [
        {
          "output_type": "stream",
          "name": "stdout",
          "text": [
            "What is your rating? (1-10)4\n",
            "Your rating is ****.\n"
          ]
        }
      ]
    },
    {
      "cell_type": "code",
      "source": [
        "user_rating2 = input(\"What is your rating? (1-10)\")\n",
        "print_rating_stars(user_rating2)"
      ],
      "metadata": {
        "id": "nxm67oCk8Ukn",
        "colab": {
          "base_uri": "https://localhost:8080/"
        },
        "outputId": "d0bdc333-bc99-4e45-ae90-971ecb6d4800"
      },
      "execution_count": 20,
      "outputs": [
        {
          "output_type": "stream",
          "name": "stdout",
          "text": [
            "What is your rating? (1-10)8\n",
            "Your rating is ********.\n"
          ]
        }
      ]
    },
    {
      "cell_type": "code",
      "source": [
        "user_rating3 = input(\"What is your rating? (1-10)\")\n",
        "print_rating_stars(user_rating3)"
      ],
      "metadata": {
        "colab": {
          "base_uri": "https://localhost:8080/"
        },
        "id": "bcmiSDUr3W1k",
        "outputId": "ba2f126e-0e9a-4db5-db78-83b7367c5f78"
      },
      "execution_count": 48,
      "outputs": [
        {
          "output_type": "stream",
          "name": "stdout",
          "text": [
            "What is your rating? (1-10)-12\n",
            "Your rating is .\n"
          ]
        }
      ]
    },
    {
      "cell_type": "markdown",
      "source": [
        "You do not have to do this as part of the assignment, but one thing to think about with any code that has **interactivity** is that you want to make it **robust**.  This means you should imagine someone is *trying* to break your code, and you should try to make it as indestructible as possible.\n",
        "\n",
        "What will happen to your code if someone enters 3.5?  Or -12?  Or \"nonsense\"?  Test it and see.  Think about how you might guard against errors.\n"
      ],
      "metadata": {
        "id": "VRfc9puT2yac"
      }
    }
  ]
}